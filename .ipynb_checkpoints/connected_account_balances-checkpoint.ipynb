{
 "cells": [
  {
   "cell_type": "code",
   "execution_count": 9,
   "id": "1b869f45-b59c-47d6-a253-9f05288972d7",
   "metadata": {},
   "outputs": [],
   "source": [
    "from dotenv import dotenv_values\n",
    "import pandas as pd\n",
    "import stripe\n",
    "\n",
    "config = dotenv_values(\".env\")"
   ]
  },
  {
   "cell_type": "markdown",
   "id": "f12aca3b-08c5-4f4a-b200-02ec21fbc5fb",
   "metadata": {},
   "source": [
    "Create an .env file with your Stripe keys\n",
    "\n",
    "```\n",
    "STRIPE_SECRET_KEY=sk_***\n",
    "STRIPE_PUBLISHABLE_KEY=pk_***\n",
    "```"
   ]
  },
  {
   "cell_type": "code",
   "execution_count": 11,
   "id": "0471422e-10d1-4ddb-9491-44a4c8b5c9b0",
   "metadata": {},
   "outputs": [],
   "source": [
    "# Setup Stripe\n",
    "stripe.api_key = config[\"STRIPE_SECRET_KEY\"]"
   ]
  },
  {
   "cell_type": "code",
   "execution_count": 27,
   "id": "0a99661b-8ed4-434d-9c1a-d2c5430c3655",
   "metadata": {},
   "outputs": [],
   "source": [
    "data = []\n",
    "\n",
    "# Loop through each account\n",
    "for account in stripe.Account.list().auto_paging_iter():\n",
    "    \n",
    "    # Get the balance\n",
    "    balance = stripe.Balance.retrieve(stripe_account=account.id)\n",
    "    \n",
    "    # Extract the balances for each account\n",
    "    data.append({\n",
    "        \"Account Name\": account.business_profile.name,\n",
    "        \"Active\": account.requirements.disabled_reason == None,\n",
    "        \"Disabled Reason\": account.requirements.disabled_reason,\n",
    "        **{\"Balance {}\".format(bal.currency.upper()): bal.amount for bal in balance.available}\n",
    "    })\n"
   ]
  },
  {
   "cell_type": "code",
   "execution_count": 28,
   "id": "202660d5-3248-4e1a-963e-55c647f55060",
   "metadata": {},
   "outputs": [
    {
     "data": {
      "text/html": [
       "<div>\n",
       "<style scoped>\n",
       "    .dataframe tbody tr th:only-of-type {\n",
       "        vertical-align: middle;\n",
       "    }\n",
       "\n",
       "    .dataframe tbody tr th {\n",
       "        vertical-align: top;\n",
       "    }\n",
       "\n",
       "    .dataframe thead th {\n",
       "        text-align: right;\n",
       "    }\n",
       "</style>\n",
       "<table border=\"1\" class=\"dataframe\">\n",
       "  <thead>\n",
       "    <tr style=\"text-align: right;\">\n",
       "      <th></th>\n",
       "      <th>Account Name</th>\n",
       "      <th>Active</th>\n",
       "      <th>Disabled Reason</th>\n",
       "      <th>Balance GBP</th>\n",
       "    </tr>\n",
       "  </thead>\n",
       "  <tbody>\n",
       "    <tr>\n",
       "      <th>0</th>\n",
       "      <td>None</td>\n",
       "      <td>False</td>\n",
       "      <td>requirements.past_due</td>\n",
       "      <td>0</td>\n",
       "    </tr>\n",
       "    <tr>\n",
       "      <th>1</th>\n",
       "      <td>UA Test Account</td>\n",
       "      <td>False</td>\n",
       "      <td>requirements.past_due</td>\n",
       "      <td>899</td>\n",
       "    </tr>\n",
       "    <tr>\n",
       "      <th>2</th>\n",
       "      <td>To be Deleted</td>\n",
       "      <td>False</td>\n",
       "      <td>requirements.past_due</td>\n",
       "      <td>0</td>\n",
       "    </tr>\n",
       "    <tr>\n",
       "      <th>3</th>\n",
       "      <td>UA Test Account</td>\n",
       "      <td>False</td>\n",
       "      <td>requirements.past_due</td>\n",
       "      <td>0</td>\n",
       "    </tr>\n",
       "    <tr>\n",
       "      <th>4</th>\n",
       "      <td>Demo Test Inc.</td>\n",
       "      <td>True</td>\n",
       "      <td>None</td>\n",
       "      <td>16153</td>\n",
       "    </tr>\n",
       "  </tbody>\n",
       "</table>\n",
       "</div>"
      ],
      "text/plain": [
       "      Account Name  Active        Disabled Reason  Balance GBP\n",
       "0             None   False  requirements.past_due            0\n",
       "1  UA Test Account   False  requirements.past_due          899\n",
       "2    To be Deleted   False  requirements.past_due            0\n",
       "3  UA Test Account   False  requirements.past_due            0\n",
       "4   Demo Test Inc.    True                   None        16153"
      ]
     },
     "execution_count": 28,
     "metadata": {},
     "output_type": "execute_result"
    }
   ],
   "source": [
    "# Put the data in a CSV\n",
    "df = pd.DataFrame(data)\n",
    "\n",
    "# df.to_csv('connected_account_balances.csv', include_index=False)\n",
    "df"
   ]
  }
 ],
 "metadata": {
  "kernelspec": {
   "display_name": "labenv",
   "language": "python",
   "name": "labenv"
  },
  "language_info": {
   "codemirror_mode": {
    "name": "ipython",
    "version": 3
   },
   "file_extension": ".py",
   "mimetype": "text/x-python",
   "name": "python",
   "nbconvert_exporter": "python",
   "pygments_lexer": "ipython3",
   "version": "3.9.11"
  }
 },
 "nbformat": 4,
 "nbformat_minor": 5
}
